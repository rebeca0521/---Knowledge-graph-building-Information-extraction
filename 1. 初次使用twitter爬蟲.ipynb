{
 "cells": [
  {
   "cell_type": "markdown",
   "metadata": {},
   "source": [
    "# 試試看使用tweepy\n",
    "### Python推特開發庫tweepy基本操作:Twitter for Python\n",
    "https://www.itread01.com/content/1549824306.html\n"
   ]
  },
  {
   "cell_type": "code",
   "execution_count": 2,
   "metadata": {},
   "outputs": [],
   "source": [
    "import tweepy"
   ]
  },
  {
   "cell_type": "code",
   "execution_count": 3,
   "metadata": {},
   "outputs": [],
   "source": [
    "consumer_key = 'LkyO4Vh1kCYXqirDoFU3JDvJA'\n",
    "consumer_secret = 'tZpOair4VdijJUdUfoWwOU6UupAn9Zn7RdkaoOv6Qbr2ifC2x5'\n",
    "access_token = '1250757816781946882-zrerLif1LrLB6oyiPVmXuNCIOlkRMV'\n",
    "access_token_secret = 'wpNsHDk42L7hJSaLFbyAMqsNCKaV9T8SCeoDpdZQCFKDg'\n",
    "\n",
    "auth = tweepy.OAuthHandler(consumer_key, consumer_secret)\n",
    "auth.set_access_token(access_token, access_token_secret)\n",
    "\n",
    "#獲取類似於內容控制代碼的東西\n",
    "api = tweepy.API(auth)\n",
    "\n"
   ]
  },
  {
   "cell_type": "code",
   "execution_count": 4,
   "metadata": {},
   "outputs": [
    {
     "name": "stdout",
     "output_type": "stream",
     "text": [
      "Tweet by: @ja_qah\n",
      "Tweet by: @kennahelander\n",
      "Tweet by: @KopiteD\n",
      "Tweet by: @jakesk1993\n",
      "Tweet by: @sklee1086\n",
      "Tweet by: @dglinnehan\n",
      "Tweet by: @con_mid\n",
      "Tweet by: @Gambiste1\n",
      "Tweet by: @forex_shawn\n",
      "Tweet by: @ArchangelPit\n"
     ]
    }
   ],
   "source": [
    "#搜尋具有\"stock\"的關鍵詞的帳號\n",
    "for tweet in tweepy.Cursor(api.search,q='Stocks').items(10):\n",
    "    print('Tweet by: @' + tweet.user.screen_name)"
   ]
  },
  {
   "cell_type": "code",
   "execution_count": 5,
   "metadata": {},
   "outputs": [
    {
     "name": "stdout",
     "output_type": "stream",
     "text": [
      "Tweet by :@地獄怪客:金甲軍團 朗柏曼 塞瑪布萊兒 道格瓊斯 電影宣傳小海報 2009年收藏 https://t.co/MHn3jsNnMM\n",
      "Tweet by :@其四\n",
      "明日瓊花詎可留？東京樹樹裹絲綢。\n",
      "平陳還願平高氏，坐帳何妨坐禦舟？\n",
      "聖帝功多常告廟，良民力竭盡填溝。\n",
      "英雄遍野干戈起，不踏金鑾誓不休。\n",
      "\n",
      "其五\n",
      "獨醉難銷萬古愁，撫窗癡望羨飛鷗。\n",
      "升官有道遵秦法，避世無方愧楚囚。\n",
      "舞罷持觴傾魯… https://t.co/bGmdSylOeS\n",
      "Tweet by :@周りにいる者が諌めるときに諌めてあげられないと、簡単に道なんか踏み外してしまう……　（『風の万里　黎明の空』／祥瓊）\n",
      "Tweet by :@RT @CXzgGlE2p6Q8OwP: 瑞德西韋傳抗疫見效 道瓊大漲704點\n",
      "https://t.co/7RiLijxBty\n",
      " #道瓊 #揭密真相  #瑞德西韋 #新冠肺炎 https://t.co/rdUjvn1ISe\n",
      "Tweet by :@經濟重啟預期帶動樂觀情緒，道瓊指數上漲 3% https://t.co/BdSvQcSpu4 https://t.co/zAUVDAUeZz\n",
      "Tweet by :@經濟重啟預期帶動樂觀情緒 道瓊指數上漲3%  https://t.co/3tfTWhCzVO 投資人擁抱大型股以及較能夠對抗疫情的類股，包括醫療科技等，標普五百指數前5大股票的市值佔比也達到創新高的21%以上。策略師Lindsey… https://t.co/4Njz7FItof\n",
      "Tweet by :@RT @kuuchiku: 鳳凰臺上憶吹簫\n",
      "\n",
      "萬頃江天，橫流歲月，如何追憶從先。放眼是、山河百里，錦繡無邊。往日佳人才子，數風流，俱化雲煙。初晴處，也對瀲灧，拜望先賢。\n",
      "\n",
      "誰人輕狂似我，千杯後，瓊樓攀倚雕欄。只零落、平生醉語，聊付金箋。莫道少年得意，全不過，彈指華年。此春盡，還…\n",
      "Tweet by :@昨朝拜君爲相來，\n",
      "今日文章當此時。\n",
      "終待東南一萬里，\n",
      "瓊臺西畔城南池。\n",
      "\n",
      "《郟城道中》\n",
      "Tweet by :@臺灣5-3密碼/中國經濟混沌的盲點-2020年4月19日\n",
      "2017/11(道瓊-24272).2020/4/17(道瓊-24232)... 等待...等待(III)\n",
      "臺灣分享2千億美元(II)\n",
      "臺灣分享1千億美元，延續人類文明的進… https://t.co/TkUquLRoWg\n",
      "Tweet by :@@bbcchinese 臺灣5-3密碼/中國經濟混沌的盲點-2020年4月19日\n",
      "2017/11(道瓊-24272).2020/4/17(道瓊-24232)... 等待...等待(III)\n",
      "臺灣分享2千億美元(II)\n",
      "臺灣分享1千… https://t.co/M52Znwc1GY\n"
     ]
    }
   ],
   "source": [
    "# 搜尋有道瓊關鍵字的推文\n",
    "for tweet in tweepy.Cursor(api.search,q='道瓊').items(10):\n",
    "    print(\"Tweet by :@\" + tweet.text)"
   ]
  },
  {
   "cell_type": "code",
   "execution_count": null,
   "metadata": {},
   "outputs": [],
   "source": []
  },
  {
   "cell_type": "markdown",
   "metadata": {},
   "source": [
    "### 參考！\n",
    "https://gist.github.com/vickyqian/f70e9ab3910c7c290d9d715491cde44c\n",
    "如何把twitter上的資料下載成csv檔"
   ]
  },
  {
   "cell_type": "code",
   "execution_count": 15,
   "metadata": {},
   "outputs": [
    {
     "name": "stdout",
     "output_type": "stream",
     "text": [
      "2020-04-17 21:11:15 4-17\n",
      "\n",
      "#DowJone $DJIA up 705\n",
      "#SP500 $SPX up 75\n",
      "#Nasdaq100 $NDX up 75\n",
      "2020-04-17 06:09:46 its mad to see market go up much on hope's of new treatment,coz that nothing about will change the dramatic economi… https://t.co/7MgNFL7K08\n"
     ]
    }
   ],
   "source": [
    "import tweepy\n",
    "import csv\n",
    "import pandas as pd\n",
    "\n",
    "#####United Airlines\n",
    "# Open/Create a file to append data 開啟一個csv檔\n",
    "csvFile = open('練習檔.csv', 'a')\n",
    "#Use csv Writer\n",
    "csvWriter = csv.writer(csvFile)\n",
    "\n",
    "for tweet in tweepy.Cursor(api.search,q=\"#DowJone\",count=100,\n",
    "                           lang=\"en\",\n",
    "                           since=\"2017-04-03\").items(500):\n",
    "    print (tweet.created_at, tweet.text)\n",
    "    csvWriter.writerow([tweet.created_at, tweet.text.encode('utf-8')])"
   ]
  },
  {
   "cell_type": "code",
   "execution_count": 9,
   "metadata": {},
   "outputs": [],
   "source": [
    "a = tweepy.Cursor(api.search,q=\"DJIA\",count=100,\n",
    "                           lang=\"en\",\n",
    "                           since=\"2017-04-03\").items(500)"
   ]
  },
  {
   "cell_type": "code",
   "execution_count": 12,
   "metadata": {},
   "outputs": [
    {
     "ename": "AttributeError",
     "evalue": "'ItemIterator' object has no attribute 'text'",
     "output_type": "error",
     "traceback": [
      "\u001b[0;31m---------------------------------------------------------------------------\u001b[0m",
      "\u001b[0;31mAttributeError\u001b[0m                            Traceback (most recent call last)",
      "\u001b[0;32m<ipython-input-12-20d91fb89196>\u001b[0m in \u001b[0;36m<module>\u001b[0;34m\u001b[0m\n\u001b[0;32m----> 1\u001b[0;31m \u001b[0ma\u001b[0m\u001b[0;34m.\u001b[0m\u001b[0mtext\u001b[0m\u001b[0;34m\u001b[0m\u001b[0;34m\u001b[0m\u001b[0m\n\u001b[0m",
      "\u001b[0;31mAttributeError\u001b[0m: 'ItemIterator' object has no attribute 'text'"
     ]
    }
   ],
   "source": [
    "a.text"
   ]
  },
  {
   "cell_type": "markdown",
   "metadata": {},
   "source": [
    "# 完整分析"
   ]
  },
  {
   "cell_type": "markdown",
   "metadata": {},
   "source": [
    "詳細介紹原文：https://towardsdatascience.com/extracting-twitter-data-pre-processing-and-sentiment-analysis-using-python-3-0-7192bd8b47cf"
   ]
  },
  {
   "cell_type": "code",
   "execution_count": null,
   "metadata": {},
   "outputs": [],
   "source": []
  }
 ],
 "metadata": {
  "kernelspec": {
   "display_name": "Python 3",
   "language": "python",
   "name": "python3"
  },
  "language_info": {
   "codemirror_mode": {
    "name": "ipython",
    "version": 3
   },
   "file_extension": ".py",
   "mimetype": "text/x-python",
   "name": "python",
   "nbconvert_exporter": "python",
   "pygments_lexer": "ipython3",
   "version": "3.7.6"
  }
 },
 "nbformat": 4,
 "nbformat_minor": 2
}
